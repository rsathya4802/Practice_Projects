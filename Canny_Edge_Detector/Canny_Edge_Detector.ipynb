{
 "cells": [
  {
   "cell_type": "code",
   "execution_count": 1,
   "metadata": {},
   "outputs": [],
   "source": [
    "import numpy as np\n",
    "import cv2\n",
    "from matplotlib import pyplot as plt\n",
    "import PIL\n",
    "from PIL import Image"
   ]
  },
  {
   "cell_type": "code",
   "execution_count": 3,
   "metadata": {},
   "outputs": [],
   "source": [
    "def imshow(img):\n",
    "    img1 = (img).astype(np.uint8)\n",
    "    cv2.imshow('Sample',img1)"
   ]
  },
  {
   "cell_type": "code",
   "execution_count": 4,
   "metadata": {},
   "outputs": [],
   "source": [
    "def pil_imshow(img):\n",
    "    tyr = Image.fromarray(img)\n",
    "    tyr.show()"
   ]
  },
  {
   "cell_type": "code",
   "execution_count": 5,
   "metadata": {},
   "outputs": [],
   "source": [
    "class CannyDetector:\n",
    "    \n",
    "    def dx_dy_filters(self,img):\n",
    "    \n",
    "        i1 = cv2.Sobel(img,cv2.CV_64F,1,0,ksize=5)\n",
    "        i2 = cv2.Sobel(img,cv2.CV_64F,0,1,ksize=5)\n",
    "\n",
    "        G = np.hypot(i1,i2)\n",
    "        G = G/G.max()*255\n",
    "        theta= np.arctan2(i2,i1)\n",
    "\n",
    "        return G,theta\n",
    "\n",
    "    def non_max_supression(self,G,theta):\n",
    "        n,m = G.shape\n",
    "        supressed_image = np.zeros((n,m),dtype=np.int32)\n",
    "        theta = theta*180/np.pi\n",
    "        theta[theta<0]+=180\n",
    "\n",
    "        for i in range(1,n-1):\n",
    "            for j in range(1,m-1):\n",
    "                x = 255\n",
    "                y = 255\n",
    "                if (0<=theta[i,j]<22.5) or (157.5<=theta[i,j]<180):\n",
    "                    x = G[i,j-1]\n",
    "                    y = G[i,j+1]\n",
    "\n",
    "                elif (22.5<=theta[i,j]<67.5):\n",
    "                    x = G[i+1,j-1]\n",
    "                    y = G[i-1,j+1]\n",
    "\n",
    "                elif (67.5<=theta[i,j]<112.5):\n",
    "                    x = G[i+1,j]\n",
    "                    y = G[i-1,j]\n",
    "\n",
    "                elif (112.5<=theta[i,j]<157.5) or (157.5<=theta[i,j]<180):\n",
    "                    x = G[i-1,j-1]\n",
    "                    y = G[i+1,j+1]\n",
    "\n",
    "                if G[i,j]>=x and G[i,j]>=y:\n",
    "                    supressed_image[i,j]=G[i,j]\n",
    "                else:\n",
    "                    supressed_image[i,j]=0\n",
    "        \n",
    "        return supressed_image\n",
    "                \n",
    "    def double_treshold(self,supressed_image,lratio=0.05,hratio=0.09):\n",
    "        \n",
    "        hThresh = supressed_image.max()*hratio\n",
    "        lThresh = hThresh*lratio\n",
    "        n,m = supressed_image.shape\n",
    "        after_thresh = np.zeros((n,m),dtype=np.int32)\n",
    "\n",
    "        weak_value = np.int32(25)    \n",
    "        strong_value = np.int32(255)\n",
    "\n",
    "        strong_x,strong_y = np.where(supressed_image>=hThresh)\n",
    "        weak_x,weak_y = np.where((supressed_image<hThresh) & (supressed_image>=lThresh))\n",
    "\n",
    "        after_thresh[strong_x,strong_y] = strong_value\n",
    "        after_thresh[weak_x,weak_y] = weak_value\n",
    "\n",
    "        return after_thresh,weak_value,strong_value\n",
    "    \n",
    "    def hysteresis(self,img,weak_val,strong_val=255):\n",
    "        n,m = img.shape\n",
    "        for i in range(1,n-1):\n",
    "            for j in range(m-1):\n",
    "                if img[i,j]==weak_val:\n",
    "                    if (img[i-1,j-1]==strong_val or img[i+1,j+1]==strong_val or img[i+1,j-1]==strong_val or img[i-1,j+1]==strong_val or img[i-1,j]==strong_val or img[i,j-1]==strong_val or img[i,j+1]==strong_val or img[i+1,j]==strong_val):\n",
    "                        img[i,j]=strong_val\n",
    "                    else:\n",
    "                        img[i,j]=0    \n",
    "    \n",
    "    def detect_edges(self,img):\n",
    "        img = cv2.cvtColor(img,cv2.COLOR_BGR2GRAY)\n",
    "        img = cv2.GaussianBlur(img,(5,5),0)\n",
    "        G,theta = self.dx_dy_filters(img)\n",
    "        supressed_image = self.non_max_supression(G,theta)\n",
    "        after_change,weak,strong = self.double_treshold(supressed_image)\n",
    "        self.hysteresis(after_change,weak,strong)\n",
    "        return after_change"
   ]
  },
  {
   "cell_type": "code",
   "execution_count": 6,
   "metadata": {},
   "outputs": [],
   "source": [
    "detector  = CannyDetector()"
   ]
  },
  {
   "cell_type": "markdown",
   "metadata": {},
   "source": [
    "## Detecting Edges in a live video"
   ]
  },
  {
   "cell_type": "code",
   "execution_count": 9,
   "metadata": {},
   "outputs": [],
   "source": [
    "vid = cv2.VideoCapture(0)\n",
    "while True:\n",
    "    ret,frame = vid.read()\n",
    "    image_with_edges = detector.detect_edges(frame)\n",
    "    imshow(image_with_edges)\n",
    "    key = cv2.waitKey(1)\n",
    "    if key== ord('q'):\n",
    "        break\n",
    "vid.release()\n",
    "cv2.destroyAllWindows()"
   ]
  },
  {
   "cell_type": "markdown",
   "metadata": {},
   "source": [
    "## Detecting Edges from an Image "
   ]
  },
  {
   "cell_type": "code",
   "execution_count": 16,
   "metadata": {},
   "outputs": [],
   "source": [
    "img2 = cv2.imread('roger.jpg',1)\n",
    "img2 = cv2.resize(img2,(img2.shape[1]//8,img2.shape[1]//8))\n",
    "changed_image_visible = detector.detect_edges(img2)\n",
    "pil_imshow(changed_image_visible)"
   ]
  },
  {
   "cell_type": "code",
   "execution_count": null,
   "metadata": {},
   "outputs": [],
   "source": []
  }
 ],
 "metadata": {
  "kernelspec": {
   "display_name": "Python 3.7.4 64-bit ('base': conda)",
   "language": "python",
   "name": "python37464bitbaseconda4975a27e214a4412a5fb84b71938d38a"
  },
  "language_info": {
   "codemirror_mode": {
    "name": "ipython",
    "version": 3
   },
   "file_extension": ".py",
   "mimetype": "text/x-python",
   "name": "python",
   "nbconvert_exporter": "python",
   "pygments_lexer": "ipython3",
   "version": "3.7.6"
  }
 },
 "nbformat": 4,
 "nbformat_minor": 4
}
