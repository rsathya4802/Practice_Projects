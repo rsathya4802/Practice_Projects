{
 "cells": [
  {
   "cell_type": "code",
   "execution_count": 1,
   "metadata": {},
   "outputs": [],
   "source": [
    "import cv2\n",
    "import os\n",
    "import matplotlib.pyplot as plt\n",
    "import numpy as np\n",
    "import copy\n",
    "import pyautogui as pta"
   ]
  },
  {
   "cell_type": "code",
   "execution_count": 2,
   "metadata": {},
   "outputs": [],
   "source": [
    "pta.FAILSAFE = False"
   ]
  },
  {
   "cell_type": "code",
   "execution_count": 3,
   "metadata": {},
   "outputs": [],
   "source": [
    "fmask = cv2.createBackgroundSubtractorMOG2(detectShadows=False)"
   ]
  },
  {
   "cell_type": "code",
   "execution_count": 4,
   "metadata": {},
   "outputs": [],
   "source": [
    "def get_thresh(frame):\n",
    "    img_changed = fmask.apply(frame)\n",
    "    res = cv2.bitwise_and(frame,frame,mask=img_changed)\n",
    "    gray_res = cv2.cvtColor(res,cv2.COLOR_BGR2GRAY)\n",
    "    blur_res = cv2.GaussianBlur(gray_res,(41,41),0)\n",
    "    _,thresh = cv2.threshold(blur_res,60,255,cv2.THRESH_BINARY)\n",
    "    return thresh"
   ]
  },
  {
   "cell_type": "code",
   "execution_count": 24,
   "metadata": {},
   "outputs": [],
   "source": [
    "def get_point(thresh):\n",
    "    thresh1 = copy.deepcopy(thresh)\n",
    "    conto , hier = cv2.findContours(thresh1,cv2.RETR_TREE,cv2.CHAIN_APPROX_SIMPLE)\n",
    "    fin_img = np.zeros(thresh1.shape,np.uint8)\n",
    "    try:\n",
    "        max_cont = max(conto,key= lambda x: cv2.contourArea(x))\n",
    "    except:\n",
    "        return None,None,None\n",
    "    hull = cv2.convexHull(max_cont)\n",
    "    try:\n",
    "        topmost = tuple(max_cont[max_cont[:,:,1].argmin()][0])\n",
    "    except:\n",
    "        return None,None,None\n",
    "    cv2.circle(fin_img,topmost,8,(124,69,45),-1)\n",
    "    return fin_img,topmost,max_cont"
   ]
  },
  {
   "cell_type": "code",
   "execution_count": 17,
   "metadata": {},
   "outputs": [],
   "source": [
    "cap = cv2.VideoCapture(0)\n",
    "while True:\n",
    "    ret,frame = cap.read()\n",
    "    thresh = get_thresh(frame)\n",
    "    cv2.imshow('frame',frame)\n",
    "    cv2.imshow('thresh',thresh)\n",
    "    if cv2.waitKey(10)==ord('s'):\n",
    "        while True:\n",
    "            ret,frame = cap.read()\n",
    "            thresh = get_thresh(frame)\n",
    "            fin_image,topmost = get_point(thresh)\n",
    "            if fin_image is not None:\n",
    "                cv2.imshow('fin_img',fin_image)\n",
    "                pta.moveTo(1920-3*topmost[0],3*topmost[1],0)\n",
    "            if cv2.waitKey(10)==ord('b'):\n",
    "                break\n",
    "    if cv2.waitKey(10)==ord('q'):\n",
    "        break\n",
    "cap.release()\n",
    "cv2.destroyAllWindows()"
   ]
  },
  {
   "cell_type": "code",
   "execution_count": 12,
   "metadata": {},
   "outputs": [
    {
     "data": {
      "text/plain": [
       "(480, 640)"
      ]
     },
     "execution_count": 12,
     "metadata": {},
     "output_type": "execute_result"
    }
   ],
   "source": [
    "thresh.shape"
   ]
  },
  {
   "cell_type": "code",
   "execution_count": 22,
   "metadata": {},
   "outputs": [],
   "source": [
    "cv2.imshow('image',thresh)\n",
    "cv2.waitKey(0)\n",
    "cv2.destroyAllWindows()"
   ]
  }
 ],
 "metadata": {
  "kernelspec": {
   "display_name": "Python 3.7.4 64-bit ('base': conda)",
   "language": "python",
   "name": "python37464bitbaseconda4975a27e214a4412a5fb84b71938d38a"
  },
  "language_info": {
   "codemirror_mode": {
    "name": "ipython",
    "version": 3
   },
   "file_extension": ".py",
   "mimetype": "text/x-python",
   "name": "python",
   "nbconvert_exporter": "python",
   "pygments_lexer": "ipython3",
   "version": "3.7.6"
  }
 },
 "nbformat": 4,
 "nbformat_minor": 4
}
